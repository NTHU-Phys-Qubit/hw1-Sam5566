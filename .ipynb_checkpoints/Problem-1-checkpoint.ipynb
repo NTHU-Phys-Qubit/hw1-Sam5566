{
 "cells": [
  {
   "cell_type": "code",
   "execution_count": 1,
   "metadata": {},
   "outputs": [],
   "source": [
    "import numpy as np\n",
    "import matplotlib.pyplot as plt\n",
    "import random"
   ]
  },
  {
   "cell_type": "markdown",
   "metadata": {},
   "source": [
    "# 1D Random walk\n",
    "\n",
    "We will concider two kinds of 1D random talk.\n",
    "* $dx$ is uniformly distributed between $[-1/2, +1/2]$.\n",
    "* $dx=+1$ with probability 1/2 and $dx=-1$ with probability 1/2.\n",
    "\n",
    "For both kinds of the 1D random walk, you should do the following:\n",
    "* Plot a single trajectory.\n",
    "* Plot the histogram of the end point for an ensemble of trajectories."
   ]
  },
  {
   "cell_type": "code",
   "execution_count": null,
   "metadata": {},
   "outputs": [],
   "source": [
    "def random_walk_1D(time, start, iteration):\n",
    "    dx = np.random.random(iteration) -0.5\n",
    "    left_p = dx < 0\n",
    "    right_p = dx > 0\n",
    "    positions = [start]\n",
    "    #print(\"round =\", time, \"/ start point =\", start, \"/ position =\", positions[0])\n",
    "    for i_l, i_r in zip(left_p, right_p): \n",
    "        #print(\"zip\", zip(downp, upp))\n",
    "        left = i_l #and positions[-1] > 1\n",
    "        right = i_r #and positions[-1] < 4\n",
    "        #print(\"down =\", idownp)\n",
    "        #print(\"up =\", iupp)\n",
    "        positions.append(positions[-1] - left + right)\n",
    "    return positions"
   ]
  },
  {
   "cell_type": "code",
   "execution_count": null,
   "metadata": {},
   "outputs": [],
   "source": [
    "rounds = 1000\n",
    "start_point = 0\n",
    "num = 1000\n",
    "result = np.zeros(rounds)\n",
    "\n",
    "for i in range(rounds):\n",
    "    result[i] = random_walk_1D(i, start_point, num)[-1]\n",
    "    #print(i, result[i])"
   ]
  },
  {
   "cell_type": "code",
   "execution_count": null,
   "metadata": {},
   "outputs": [],
   "source": [
    "plt.plot(random_walk_1D(0, start_point, num)) \n",
    "plt.show()\n",
    "plt.hist(result, bins= 'auto')\n",
    "plt.show()"
   ]
  }
 ],
 "metadata": {
  "kernelspec": {
   "display_name": "Python 3",
   "language": "python",
   "name": "python3"
  },
  "language_info": {
   "codemirror_mode": {
    "name": "ipython",
    "version": 3
   },
   "file_extension": ".py",
   "mimetype": "text/x-python",
   "name": "python",
   "nbconvert_exporter": "python",
   "pygments_lexer": "ipython3",
   "version": "3.7.3"
  }
 },
 "nbformat": 4,
 "nbformat_minor": 4
}
