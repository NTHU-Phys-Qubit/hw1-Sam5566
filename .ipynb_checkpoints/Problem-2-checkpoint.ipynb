{
 "cells": [
  {
   "cell_type": "code",
   "execution_count": 1,
   "metadata": {},
   "outputs": [],
   "source": [
    "import numpy as np\n",
    "import matplotlib.pyplot as plt\n",
    "import random"
   ]
  },
  {
   "cell_type": "markdown",
   "metadata": {},
   "source": [
    "# 2D Random walk\n",
    "\n",
    "We will concider three kinds of 2D random talk.\n",
    "* $dx$ and $dy$ are uniformly distributed between $[-1/2, +1/2]$.\n",
    "* $dx=+1$ with probability 1/2 and $dx=-1$ with probability 1/2. Similarly for $dy$.\n",
    "* $(dx, dy)=(\\cos(\\theta), \\sin(\\theta))$ where $\\theta$ is uniformly distributed between $[0, 2\\pi]$.\n",
    "\n",
    "For all kinds of the 2D random walk, you should do the following:\n",
    "* Plot a single trajectory.\n",
    "* Plot the distribution of the end point for an ensemble of trajectories.\n",
    "* Plot the histogram of the $r=x^2_f+y^2_f$ for an ensemble of trajectories."
   ]
  },
  {
   "cell_type": "code",
   "execution_count": null,
   "metadata": {},
   "outputs": [],
   "source": [
    "class xy:\n",
    "    def __init__(self, n):\n",
    "        self.x = np.zeros(n)\n",
    "        self.y = np.zeros(n)\n",
    "    def r(self):\n",
    "        return np.sqrt(self.x*self.x +self.y*self.y)\n",
    "        \n",
    "times = 1000\n",
    "n = 10000\n",
    "x_ends = np.zeros(times)\n",
    "y_ends = np.zeros(times)\n",
    "\n",
    "ends = xy(times)  \n",
    "#print(ends.x[1])\n",
    "b = xy(times)"
   ]
  },
  {
   "cell_type": "code",
   "execution_count": null,
   "metadata": {},
   "outputs": [],
   "source": [
    "def random_walk_2D(time, iteration):\n",
    "    #x = np.zeros(iteration) \n",
    "    #y = np.zeros(iteration)\n",
    "    a = xy(iteration)\n",
    "    for i in range(1, iteration): \n",
    "        val = random.randint(1, 4) \n",
    "        if val == 1: \n",
    "            a.x[i] = a.x[i - 1] + 1\n",
    "            a.y[i] = a.y[i - 1] \n",
    "        elif val == 2: \n",
    "            a.x[i] = a.x[i - 1] - 1\n",
    "            a.y[i] = a.y[i - 1] \n",
    "        elif val == 3: \n",
    "            a.x[i] = a.x[i - 1] \n",
    "            a.y[i] = a.y[i - 1] + 1\n",
    "        else: \n",
    "            a.x[i] = a.x[i - 1] \n",
    "            a.y[i] = a.y[i - 1] - 1 \n",
    "    \n",
    "    ends.x[j] = a.x[-1]\n",
    "    ends.y[j] = a.y[-1]\n",
    "    #print(ends.x[j])\n",
    "    return a"
   ]
  },
  {
   "cell_type": "code",
   "execution_count": null,
   "metadata": {},
   "outputs": [],
   "source": [
    "for j in range(times):\n",
    "    b = random_walk_2D(j, n)\n",
    "    #print(j, ends.x[j])"
   ]
  },
  {
   "cell_type": "code",
   "execution_count": null,
   "metadata": {},
   "outputs": [],
   "source": [
    "# plotting stuff: \n",
    "plt.title(\"Random Walk ($n = \" + str(n) + \"$ steps)\") \n",
    "#x_t = \n",
    "#print(b.x)\n",
    "plt.plot(b.x, b.y) \n",
    "#plt.savefig(\"rand_walk\"+str(n)+\".png\",bbox_inches=\"tight\",dpi=600) \n",
    "plt.show() \n",
    "plt.hist2d(ends.x, ends.y, bins= (50, 50), cmap=plt.cm.jet)\n",
    "plt.show()\n",
    "plt.hist(ends.r(), bins= 'auto')\n",
    "plt.show()"
   ]
  }
 ],
 "metadata": {
  "kernelspec": {
   "display_name": "Python 3",
   "language": "python",
   "name": "python3"
  },
  "language_info": {
   "codemirror_mode": {
    "name": "ipython",
    "version": 3
   },
   "file_extension": ".py",
   "mimetype": "text/x-python",
   "name": "python",
   "nbconvert_exporter": "python",
   "pygments_lexer": "ipython3",
   "version": "3.7.6"
  }
 },
 "nbformat": 4,
 "nbformat_minor": 4
}
